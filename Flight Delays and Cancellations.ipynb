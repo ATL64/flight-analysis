{
 "cells": [
  {
   "cell_type": "markdown",
   "metadata": {},
   "source": [
    "# Table of Contents\n",
    "\n",
    "\n",
    "1. [Exploring the dataset](#intro)\n",
    "\n",
    "    1.1 [Import the data](#import)\n",
    "    \n",
    "    1.2 [Flights, delays and cancellations per day](#perday)\n",
    "    \n",
    "    1.3 [Airports with many cancellations](#cancellationairports)\n",
    "    \n",
    "    1.4 [Carrier vs Delay](#carrier)\n",
    "    \n",
    "    1.5 [Distance vs Delay](#distance)\n",
    "    \n",
    "    1.6 [Model for cancellations](#model)\n",
    "    \n",
    "    \n",
    "2. [Conclusions](#conclusions)\n",
    "    "
   ]
  },
  {
   "cell_type": "code",
   "execution_count": null,
   "metadata": {},
   "outputs": [],
   "source": [
    "# python imports and matplotlib config\n",
    "\n",
    "# python imports\n",
    "import datetime as dt\n",
    "import sys\n",
    "sys.path\n",
    "sys.path.append('/Users/frosterchosky/Downloads/2008.csv')\n",
    "import pandas\n",
    "\n",
    "# analysis imports\n",
    "import numpy as np\n",
    "import pandas as pd\n",
    "import matplotlib.pyplot as plt\n",
    "import seaborn as sns\n",
    "# juypyter config\n",
    "%matplotlib inline\n",
    "#%load_ext sql\n",
    "%load_ext autoreload\n",
    "%autoreload 2\n",
    "from IPython.core.interactiveshell import InteractiveShell\n",
    "InteractiveShell.ast_node_interactivity = \"all\"\n",
    "\n",
    "# pandas config\n",
    "pd.set_option('float_format', lambda x: '%.3f' % x)\n",
    "pd.set_option('display.max_rows', 200)\n",
    "\n",
    "# customize css of bootstrap alert boxes\n",
    "from IPython.display import HTML\n",
    "style = \"\"\"\n",
    "        <style>\n",
    "            div.alert-warning, div.alert-info {\n",
    "                font-size: 1.2em;\n",
    "                line-spacing: 140%;\n",
    "                max-width: 1000px;\n",
    "            }\n",
    "        </style>\n",
    "        \"\"\"\n",
    "HTML(style)"
   ]
  },
  {
   "cell_type": "markdown",
   "metadata": {},
   "source": [
    "### Import the data <a id=import></a>"
   ]
  },
  {
   "cell_type": "code",
   "execution_count": 2,
   "metadata": {},
   "outputs": [],
   "source": [
    "# Read csv\n",
    "dataset = pandas.read_csv(\"/Users/frosterchosky/Downloads/2008.csv\", sep=',', low_memory=False)"
   ]
  },
  {
   "cell_type": "code",
   "execution_count": 3,
   "metadata": {},
   "outputs": [
    {
     "data": {
      "text/html": [
       "<div>\n",
       "<style scoped>\n",
       "    .dataframe tbody tr th:only-of-type {\n",
       "        vertical-align: middle;\n",
       "    }\n",
       "\n",
       "    .dataframe tbody tr th {\n",
       "        vertical-align: top;\n",
       "    }\n",
       "\n",
       "    .dataframe thead th {\n",
       "        text-align: right;\n",
       "    }\n",
       "</style>\n",
       "<table border=\"1\" class=\"dataframe\">\n",
       "  <thead>\n",
       "    <tr style=\"text-align: right;\">\n",
       "      <th></th>\n",
       "      <th>Year</th>\n",
       "      <th>Month</th>\n",
       "      <th>DayofMonth</th>\n",
       "      <th>DayOfWeek</th>\n",
       "      <th>DepTime</th>\n",
       "      <th>CRSDepTime</th>\n",
       "      <th>ArrTime</th>\n",
       "      <th>CRSArrTime</th>\n",
       "      <th>UniqueCarrier</th>\n",
       "      <th>FlightNum</th>\n",
       "      <th>...</th>\n",
       "      <th>TaxiIn</th>\n",
       "      <th>TaxiOut</th>\n",
       "      <th>Cancelled</th>\n",
       "      <th>CancellationCode</th>\n",
       "      <th>Diverted</th>\n",
       "      <th>CarrierDelay</th>\n",
       "      <th>WeatherDelay</th>\n",
       "      <th>NASDelay</th>\n",
       "      <th>SecurityDelay</th>\n",
       "      <th>LateAircraftDelay</th>\n",
       "    </tr>\n",
       "  </thead>\n",
       "  <tbody>\n",
       "    <tr>\n",
       "      <th>0</th>\n",
       "      <td>2008</td>\n",
       "      <td>1</td>\n",
       "      <td>3</td>\n",
       "      <td>4</td>\n",
       "      <td>2003.000</td>\n",
       "      <td>1955</td>\n",
       "      <td>2211.000</td>\n",
       "      <td>2225</td>\n",
       "      <td>WN</td>\n",
       "      <td>335</td>\n",
       "      <td>...</td>\n",
       "      <td>4.000</td>\n",
       "      <td>8.000</td>\n",
       "      <td>0</td>\n",
       "      <td>NaN</td>\n",
       "      <td>0</td>\n",
       "      <td>nan</td>\n",
       "      <td>nan</td>\n",
       "      <td>nan</td>\n",
       "      <td>nan</td>\n",
       "      <td>nan</td>\n",
       "    </tr>\n",
       "    <tr>\n",
       "      <th>1</th>\n",
       "      <td>2008</td>\n",
       "      <td>1</td>\n",
       "      <td>3</td>\n",
       "      <td>4</td>\n",
       "      <td>754.000</td>\n",
       "      <td>735</td>\n",
       "      <td>1002.000</td>\n",
       "      <td>1000</td>\n",
       "      <td>WN</td>\n",
       "      <td>3231</td>\n",
       "      <td>...</td>\n",
       "      <td>5.000</td>\n",
       "      <td>10.000</td>\n",
       "      <td>0</td>\n",
       "      <td>NaN</td>\n",
       "      <td>0</td>\n",
       "      <td>nan</td>\n",
       "      <td>nan</td>\n",
       "      <td>nan</td>\n",
       "      <td>nan</td>\n",
       "      <td>nan</td>\n",
       "    </tr>\n",
       "    <tr>\n",
       "      <th>2</th>\n",
       "      <td>2008</td>\n",
       "      <td>1</td>\n",
       "      <td>3</td>\n",
       "      <td>4</td>\n",
       "      <td>628.000</td>\n",
       "      <td>620</td>\n",
       "      <td>804.000</td>\n",
       "      <td>750</td>\n",
       "      <td>WN</td>\n",
       "      <td>448</td>\n",
       "      <td>...</td>\n",
       "      <td>3.000</td>\n",
       "      <td>17.000</td>\n",
       "      <td>0</td>\n",
       "      <td>NaN</td>\n",
       "      <td>0</td>\n",
       "      <td>nan</td>\n",
       "      <td>nan</td>\n",
       "      <td>nan</td>\n",
       "      <td>nan</td>\n",
       "      <td>nan</td>\n",
       "    </tr>\n",
       "    <tr>\n",
       "      <th>3</th>\n",
       "      <td>2008</td>\n",
       "      <td>1</td>\n",
       "      <td>3</td>\n",
       "      <td>4</td>\n",
       "      <td>926.000</td>\n",
       "      <td>930</td>\n",
       "      <td>1054.000</td>\n",
       "      <td>1100</td>\n",
       "      <td>WN</td>\n",
       "      <td>1746</td>\n",
       "      <td>...</td>\n",
       "      <td>3.000</td>\n",
       "      <td>7.000</td>\n",
       "      <td>0</td>\n",
       "      <td>NaN</td>\n",
       "      <td>0</td>\n",
       "      <td>nan</td>\n",
       "      <td>nan</td>\n",
       "      <td>nan</td>\n",
       "      <td>nan</td>\n",
       "      <td>nan</td>\n",
       "    </tr>\n",
       "    <tr>\n",
       "      <th>4</th>\n",
       "      <td>2008</td>\n",
       "      <td>1</td>\n",
       "      <td>3</td>\n",
       "      <td>4</td>\n",
       "      <td>1829.000</td>\n",
       "      <td>1755</td>\n",
       "      <td>1959.000</td>\n",
       "      <td>1925</td>\n",
       "      <td>WN</td>\n",
       "      <td>3920</td>\n",
       "      <td>...</td>\n",
       "      <td>3.000</td>\n",
       "      <td>10.000</td>\n",
       "      <td>0</td>\n",
       "      <td>NaN</td>\n",
       "      <td>0</td>\n",
       "      <td>2.000</td>\n",
       "      <td>0.000</td>\n",
       "      <td>0.000</td>\n",
       "      <td>0.000</td>\n",
       "      <td>32.000</td>\n",
       "    </tr>\n",
       "  </tbody>\n",
       "</table>\n",
       "<p>5 rows × 29 columns</p>\n",
       "</div>"
      ],
      "text/plain": [
       "   Year  Month  DayofMonth  DayOfWeek  DepTime  CRSDepTime  ArrTime  \\\n",
       "0  2008      1           3          4 2003.000        1955 2211.000   \n",
       "1  2008      1           3          4  754.000         735 1002.000   \n",
       "2  2008      1           3          4  628.000         620  804.000   \n",
       "3  2008      1           3          4  926.000         930 1054.000   \n",
       "4  2008      1           3          4 1829.000        1755 1959.000   \n",
       "\n",
       "   CRSArrTime UniqueCarrier  FlightNum        ...         TaxiIn  TaxiOut  \\\n",
       "0        2225            WN        335        ...          4.000    8.000   \n",
       "1        1000            WN       3231        ...          5.000   10.000   \n",
       "2         750            WN        448        ...          3.000   17.000   \n",
       "3        1100            WN       1746        ...          3.000    7.000   \n",
       "4        1925            WN       3920        ...          3.000   10.000   \n",
       "\n",
       "   Cancelled  CancellationCode  Diverted  CarrierDelay WeatherDelay NASDelay  \\\n",
       "0          0               NaN         0           nan          nan      nan   \n",
       "1          0               NaN         0           nan          nan      nan   \n",
       "2          0               NaN         0           nan          nan      nan   \n",
       "3          0               NaN         0           nan          nan      nan   \n",
       "4          0               NaN         0         2.000        0.000    0.000   \n",
       "\n",
       "   SecurityDelay  LateAircraftDelay  \n",
       "0            nan                nan  \n",
       "1            nan                nan  \n",
       "2            nan                nan  \n",
       "3            nan                nan  \n",
       "4          0.000             32.000  \n",
       "\n",
       "[5 rows x 29 columns]"
      ]
     },
     "execution_count": 3,
     "metadata": {},
     "output_type": "execute_result"
    }
   ],
   "source": [
    "dataset.head()"
   ]
  },
  {
   "cell_type": "code",
   "execution_count": 34,
   "metadata": {},
   "outputs": [
    {
     "data": {
      "text/plain": [
       "['Year',\n",
       " 'Month',\n",
       " 'DayofMonth',\n",
       " 'DayOfWeek',\n",
       " 'DepTime',\n",
       " 'CRSDepTime',\n",
       " 'ArrTime',\n",
       " 'CRSArrTime',\n",
       " 'UniqueCarrier',\n",
       " 'FlightNum',\n",
       " 'TailNum',\n",
       " 'ActualElapsedTime',\n",
       " 'CRSElapsedTime',\n",
       " 'AirTime',\n",
       " 'ArrDelay',\n",
       " 'DepDelay',\n",
       " 'Origin',\n",
       " 'Dest',\n",
       " 'Distance',\n",
       " 'TaxiIn',\n",
       " 'TaxiOut',\n",
       " 'Cancelled',\n",
       " 'CancellationCode',\n",
       " 'Diverted',\n",
       " 'CarrierDelay',\n",
       " 'WeatherDelay',\n",
       " 'NASDelay',\n",
       " 'SecurityDelay',\n",
       " 'LateAircraftDelay']"
      ]
     },
     "execution_count": 34,
     "metadata": {},
     "output_type": "execute_result"
    }
   ],
   "source": [
    "list(dataset)"
   ]
  },
  {
   "cell_type": "markdown",
   "metadata": {},
   "source": [
    "### Flights, delays and cancellations per day <a id=perday></a>"
   ]
  },
  {
   "cell_type": "code",
   "execution_count": 27,
   "metadata": {},
   "outputs": [
    {
     "data": {
      "text/html": [
       "<div>\n",
       "<style scoped>\n",
       "    .dataframe tbody tr th:only-of-type {\n",
       "        vertical-align: middle;\n",
       "    }\n",
       "\n",
       "    .dataframe tbody tr th {\n",
       "        vertical-align: top;\n",
       "    }\n",
       "\n",
       "    .dataframe thead th {\n",
       "        text-align: right;\n",
       "    }\n",
       "</style>\n",
       "<table border=\"1\" class=\"dataframe\">\n",
       "  <thead>\n",
       "    <tr style=\"text-align: right;\">\n",
       "      <th></th>\n",
       "      <th></th>\n",
       "      <th>delay_rate</th>\n",
       "      <th>cancellation_rate</th>\n",
       "    </tr>\n",
       "    <tr>\n",
       "      <th>Month</th>\n",
       "      <th>DayofMonth</th>\n",
       "      <th></th>\n",
       "      <th></th>\n",
       "    </tr>\n",
       "  </thead>\n",
       "  <tbody>\n",
       "    <tr>\n",
       "      <th rowspan=\"5\" valign=\"top\">1</th>\n",
       "      <th>1</th>\n",
       "      <td>0.032</td>\n",
       "      <td>0.011</td>\n",
       "    </tr>\n",
       "    <tr>\n",
       "      <th>2</th>\n",
       "      <td>0.019</td>\n",
       "      <td>0.003</td>\n",
       "    </tr>\n",
       "    <tr>\n",
       "      <th>3</th>\n",
       "      <td>0.009</td>\n",
       "      <td>0.001</td>\n",
       "    </tr>\n",
       "    <tr>\n",
       "      <th>4</th>\n",
       "      <td>0.014</td>\n",
       "      <td>0.014</td>\n",
       "    </tr>\n",
       "    <tr>\n",
       "      <th>5</th>\n",
       "      <td>0.014</td>\n",
       "      <td>0.010</td>\n",
       "    </tr>\n",
       "  </tbody>\n",
       "</table>\n",
       "</div>"
      ],
      "text/plain": [
       "                  delay_rate  cancellation_rate\n",
       "Month DayofMonth                               \n",
       "1     1                0.032              0.011\n",
       "      2                0.019              0.003\n",
       "      3                0.009              0.001\n",
       "      4                0.014              0.014\n",
       "      5                0.014              0.010"
      ]
     },
     "execution_count": 27,
     "metadata": {},
     "output_type": "execute_result"
    }
   ],
   "source": [
    "def delay_rate(df_sub):\n",
    "    return df_sub[(df_sub.WeatherDelay>0)]['Year'].count() / float(df_sub['Year'].count())\n",
    "def cancellation_rate(df_sub):\n",
    "    return df_sub[(df_sub.CancellationCode=='B')]['Year'].count() / float(df_sub['Year'].count())\n",
    "\n",
    "def g(x):\n",
    "    d = {}\n",
    "    d['delay_rate'] = delay_rate(x)\n",
    "    d['cancellation_rate'] = cancellation_rate(x)\n",
    "    return pd.Series(d, index=['delay_rate','cancellation_rate'])\n",
    "daily_flights = dataset.groupby(['Month','DayofMonth']).apply(g)\n",
    "daily_flights.head()"
   ]
  },
  {
   "cell_type": "code",
   "execution_count": 28,
   "metadata": {},
   "outputs": [
    {
     "data": {
      "text/plain": [
       "<matplotlib.axes._subplots.AxesSubplot at 0x105e7a860>"
      ]
     },
     "execution_count": 28,
     "metadata": {},
     "output_type": "execute_result"
    },
    {
     "data": {
      "image/png": "[encoded data removed]",
      "text/plain": [
       "<Figure size 432x288 with 1 Axes>"
      ]
     },
     "metadata": {},
     "output_type": "display_data"
    }
   ],
   "source": [
    "daily_flights.plot()"
   ]
  },
  {
   "cell_type": "markdown",
   "metadata": {},
   "source": [
    "#### As seen above and the chart here http://www.atl64-flightanalysis.com/\n",
    "#### there is some visible correlation between winter months and an increase in delays/cancellations due to weather.\n",
    "#### The most interesting question is if we can use weather forecasts to make estimates on whether a cancellation has increased probability.  Given this is for an insurance case, we will want to create models that penalize false negatives. However, historical forecasts are not so easy to get (certainly not in this dataset). Let's keep exploring:"
   ]
  },
  {
   "cell_type": "markdown",
   "metadata": {},
   "source": [
    "### Airports with many weather cancellations <a id=cancellationairports></a>"
   ]
  },
  {
   "cell_type": "code",
   "execution_count": 33,
   "metadata": {},
   "outputs": [
    {
     "data": {
      "text/plain": [
       "Origin\n",
       "ORD    4896\n",
       "DFW    3462\n",
       "IAH    2605\n",
       "ATL    2498\n",
       "JFK    2051\n",
       "Name: Origin, dtype: int64"
      ]
     },
     "execution_count": 33,
     "metadata": {},
     "output_type": "execute_result"
    }
   ],
   "source": [
    "dataset[(dataset.CancellationCode=='B')].groupby('Origin')['Origin'].size().nlargest(5)\n"
   ]
  },
  {
   "cell_type": "markdown",
   "metadata": {},
   "source": [
    "#### Perhaps Carrier associated delays are more interesting:"
   ]
  },
  {
   "cell_type": "markdown",
   "metadata": {},
   "source": [
    "### Carrier vs Delay <a id=carrier></a>"
   ]
  },
  {
   "cell_type": "code",
   "execution_count": 40,
   "metadata": {},
   "outputs": [
    {
     "data": {
      "text/html": [
       "<div>\n",
       "<style scoped>\n",
       "    .dataframe tbody tr th:only-of-type {\n",
       "        vertical-align: middle;\n",
       "    }\n",
       "\n",
       "    .dataframe tbody tr th {\n",
       "        vertical-align: top;\n",
       "    }\n",
       "\n",
       "    .dataframe thead th {\n",
       "        text-align: right;\n",
       "    }\n",
       "</style>\n",
       "<table border=\"1\" class=\"dataframe\">\n",
       "  <thead>\n",
       "    <tr style=\"text-align: right;\">\n",
       "      <th></th>\n",
       "      <th>delay_rate</th>\n",
       "      <th>cancellation_rate</th>\n",
       "      <th>total</th>\n",
       "    </tr>\n",
       "    <tr>\n",
       "      <th>UniqueCarrier</th>\n",
       "      <th></th>\n",
       "      <th></th>\n",
       "      <th></th>\n",
       "    </tr>\n",
       "  </thead>\n",
       "  <tbody>\n",
       "    <tr>\n",
       "      <th>9E</th>\n",
       "      <td>0.062</td>\n",
       "      <td>0.017</td>\n",
       "      <td>262208.000</td>\n",
       "    </tr>\n",
       "    <tr>\n",
       "      <th>AA</th>\n",
       "      <td>0.120</td>\n",
       "      <td>0.016</td>\n",
       "      <td>604885.000</td>\n",
       "    </tr>\n",
       "    <tr>\n",
       "      <th>AQ</th>\n",
       "      <td>0.030</td>\n",
       "      <td>0.005</td>\n",
       "      <td>7800.000</td>\n",
       "    </tr>\n",
       "    <tr>\n",
       "      <th>AS</th>\n",
       "      <td>0.082</td>\n",
       "      <td>0.008</td>\n",
       "      <td>151102.000</td>\n",
       "    </tr>\n",
       "    <tr>\n",
       "      <th>B6</th>\n",
       "      <td>0.109</td>\n",
       "      <td>0.003</td>\n",
       "      <td>196091.000</td>\n",
       "    </tr>\n",
       "  </tbody>\n",
       "</table>\n",
       "</div>"
      ],
      "text/plain": [
       "               delay_rate  cancellation_rate      total\n",
       "UniqueCarrier                                          \n",
       "9E                  0.062              0.017 262208.000\n",
       "AA                  0.120              0.016 604885.000\n",
       "AQ                  0.030              0.005   7800.000\n",
       "AS                  0.082              0.008 151102.000\n",
       "B6                  0.109              0.003 196091.000"
      ]
     },
     "execution_count": 40,
     "metadata": {},
     "output_type": "execute_result"
    }
   ],
   "source": [
    "def delay_rate(df_sub):\n",
    "    return df_sub[(df_sub.CarrierDelay>0)]['Year'].count() / float(df_sub['Year'].count())\n",
    "def cancellation_rate(df_sub):\n",
    "    return df_sub[(df_sub.CancellationCode=='A')]['Year'].count() / float(df_sub['Year'].count())\n",
    "\n",
    "def g(x):\n",
    "    d = {}\n",
    "    d['delay_rate'] = delay_rate(x)\n",
    "    d['cancellation_rate'] = cancellation_rate(x)\n",
    "    d['total'] = x['Year'].count()\n",
    "    return pd.Series(d, index=['delay_rate','cancellation_rate','total'])\n",
    "carrier_delay = dataset.groupby(['UniqueCarrier']).apply(g)\n",
    "carrier_delay.head()"
   ]
  },
  {
   "cell_type": "markdown",
   "metadata": {},
   "source": [
    "####  Delay and cancellation rates vary greatly between carriers.  This is clearly a crucial predictor."
   ]
  },
  {
   "cell_type": "markdown",
   "metadata": {},
   "source": [
    "### Distance vs Delay <a id=distance></a>"
   ]
  },
  {
   "cell_type": "markdown",
   "metadata": {},
   "source": [
    "#### Let's check if distance correlates to non-heav-weather delays."
   ]
  },
  {
   "cell_type": "code",
   "execution_count": 46,
   "metadata": {},
   "outputs": [
    {
     "data": {
      "text/plain": [
       "<matplotlib.axes._subplots.AxesSubplot at 0x10d801c50>"
      ]
     },
     "execution_count": 46,
     "metadata": {},
     "output_type": "execute_result"
    },
    {
     "data": {
      "image/png": "[encoded data removed]",
      "text/plain": [
       "<Figure size 432x288 with 1 Axes>"
      ]
     },
     "metadata": {},
     "output_type": "display_data"
    }
   ],
   "source": [
    "dataset.plot(x='NASDelay', y='Distance', style='o')"
   ]
  },
  {
   "cell_type": "code",
   "execution_count": 42,
   "metadata": {},
   "outputs": [
    {
     "data": {
      "text/plain": [
       "0.02915643794069919"
      ]
     },
     "execution_count": 42,
     "metadata": {},
     "output_type": "execute_result"
    }
   ],
   "source": [
    "dataset['NASDelay'].corr(dataset['Distance'],method='pearson')"
   ]
  },
  {
   "cell_type": "code",
   "execution_count": 43,
   "metadata": {},
   "outputs": [
    {
     "data": {
      "text/plain": [
       "0.07274804119640385"
      ]
     },
     "execution_count": 43,
     "metadata": {},
     "output_type": "execute_result"
    }
   ],
   "source": [
    "dataset['NASDelay'].corr(dataset['Distance'],method='kendall')"
   ]
  },
  {
   "cell_type": "code",
   "execution_count": 44,
   "metadata": {},
   "outputs": [
    {
     "data": {
      "text/plain": [
       "0.10277721921593685"
      ]
     },
     "execution_count": 44,
     "metadata": {},
     "output_type": "execute_result"
    }
   ],
   "source": [
    "dataset['NASDelay'].corr(dataset['Distance'],method='spearman')"
   ]
  },
  {
   "cell_type": "markdown",
   "metadata": {},
   "source": [
    "#### There might be a linear effect here, but not looking like a strong predictor for now.\n",
    "\n"
   ]
  },
  {
   "cell_type": "markdown",
   "metadata": {},
   "source": [
    "\n",
    "### Model for cancellations <a id=model></a>"
   ]
  },
  {
   "cell_type": "markdown",
   "metadata": {},
   "source": [
    "#### In the file model.R we fit a random forest in R to predict cancellations and use this to check variable importance.  This is merely as an exploration of results and initial benchmarking."
   ]
  },
  {
   "cell_type": "markdown",
   "metadata": {},
   "source": [
    "#### Given the highly unbalanced classes, plus the low quality of predictors, the model did not turn out to be ver insightful.  We can definitely attempt to make this work (balance classes out properly, etc.), but seems like a futile exercise if we don't go for the features first."
   ]
  },
  {
   "cell_type": "markdown",
   "metadata": {},
   "source": [
    "### Conclusions <a id=conclusions></a>"
   ]
  },
  {
   "cell_type": "markdown",
   "metadata": {},
   "source": [
    "After this exploratory analysis, we have preliminary results suggesting correlations between weather, distance and carriers with a flight's probability of being cancelled/delayed.\n",
    "\n",
    "A few pointers for further exploration:\n",
    "\n",
    "- Interactive Dashboard to further explore the data.\n",
    "\n",
    "- Cluster the TailNum, Origin and Destination variables.\n",
    "\n",
    "- Do an outlier analysis.\n",
    "\n",
    "- Do proper predictive modelling, including feature engineering (main thought here is to enrich the dataset).\n",
    "\n",
    "- Regarding the business case, it is clear that the potential of introducing weather forecasts is huge and would be of first priority.  We can then proceed to combine this information with airports and carriers to make predictive models that classify flights into cancelled/non-cancelled or delayed/non-delayed categories.\n"
   ]
  }
 ],
 "metadata": {
  "kernelspec": {
   "display_name": "Python 3",
   "language": "python",
   "name": "python3"
  },
  "language_info": {
   "codemirror_mode": {
    "name": "ipython",
    "version": 3
   },
   "file_extension": ".py",
   "mimetype": "text/x-python",
   "name": "python",
   "nbconvert_exporter": "python",
   "pygments_lexer": "ipython3",
   "version": "3.6.5"
  }
 },
 "nbformat": 4,
 "nbformat_minor": 2
}
